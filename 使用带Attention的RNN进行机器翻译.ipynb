{
 "cells": [
  {
   "cell_type": "markdown",
   "metadata": {
    "collapsed": true
   },
   "source": [
    "# 目录\n",
    "1. [背景](#1)<br>\n",
    "2. [载入数据文件](#2)<br>\n",
    "3. [Seq2Seq模型](#3)<br>\n",
    "&nbsp;&nbsp;&nbsp;&nbsp;3.1 [编码器](#3.1)<br>\n",
    "&nbsp;&nbsp;&nbsp;&nbsp;3.2 [解码器](#3.2)<br>\n",
    "&nbsp;&nbsp;&nbsp;&nbsp;&nbsp;&nbsp;&nbsp;&nbsp;3.2.1 [简单的解码器](#3.1)<br>\n",
    "&nbsp;&nbsp;&nbsp;&nbsp;&nbsp;&nbsp;&nbsp;&nbsp;3.2.2 [Attention解码器](#3.2)<br>\n",
    "4. [训练](#4)<br>\n",
    "&nbsp;&nbsp;&nbsp;&nbsp;4.1 [准备训练数据](#4.1)<br>\n",
    "&nbsp;&nbsp;&nbsp;&nbsp;4.2 [训练模型](#4.2)<br>\n",
    "&nbsp;&nbsp;&nbsp;&nbsp;4.2 [绘制结果](#4.3)<br>\n",
    "5. [评估](#5)<br>\n",
    "&nbsp;&nbsp;&nbsp;&nbsp;5.1 [执行训练和评估过程](#5.1)<br>\n",
    "&nbsp;&nbsp;&nbsp;&nbsp;5.2 [Attention过程可视化](#5.2)<br>\n",
    "6. [更多的尝试](#6)<br>"
   ]
  },
  {
   "cell_type": "markdown",
   "metadata": {},
   "source": [
    "<div id=\"1\"></div>\n",
    "\n",
    "# 1 背景"
   ]
  },
  {
   "cell_type": "markdown",
   "metadata": {},
   "source": [
    "在本案例中，我们训练一个带Attention机制的循环神经网络用于将中文翻译成英文。\n",
    "\n",
    "一些简单的翻译结果示例如下：\n",
    "```\n",
    "[> 输入 ，= 目标 ，< 输出]\n",
    "\n",
    "> 他不是傻子。\n",
    "= he is not stupid .\n",
    "< he is no fool .\n",
    "```\n",
    "该循环神经网络的编码器部分将输入序列压缩成矢量，解码器部分将该矢量展开为新的序列，即完成了翻译过程。同时，为提升模型性能，我们引入Attention机制使得解码器可以重点关注输入序列的某一部分。\n",
    "\n",
    "中文翻译比较困难的一点在于，与英文、法文等使用空格作为词语分割的语言不同，中文的分词是一个比较复杂的问题，在这里我们使用`jieba`进行分词。"
   ]
  },
  {
   "cell_type": "markdown",
   "metadata": {},
   "source": [
    "我们首先导入之后需要的包。\n",
    "\n",
    "+ `unicode_literals`代表将模块中显式出现的所有字符串转为unicode类型，防止在循环时以字节为单位而不是以字符为单位。\n",
    "+ `print_function`和`division`代表使用python 3.x版本的`print()`函数和除法。"
   ]
  },
  {
   "cell_type": "code",
   "execution_count": 1,
   "metadata": {},
   "outputs": [],
   "source": [
    "from __future__ import unicode_literals, print_function, division\n",
    "from io import open\n",
    "import unicodedata\n",
    "import string\n",
    "import re\n",
    "import random\n",
    "import jieba\n",
    "\n",
    "import torch\n",
    "from torch.autograd import Variable\n",
    "from torch import optim\n",
    "import torch.nn.functional as F\n",
    "import torch.nn as nn\n",
    "\n",
    "# use_cuda = torch.cuda.is_available()\n",
    "use_cuda = [] # cpu运行"
   ]
  },
  {
   "cell_type": "markdown",
   "metadata": {},
   "source": [
    "<div id=\"2\"></div>\n",
    "\n",
    "# 2 载入数据文件"
   ]
  },
  {
   "cell_type": "markdown",
   "metadata": {},
   "source": [
    "该数据（[原始下载路径](http://www.manythings.org/anki/)）包含了19577条中文-英文的翻译句子对。 每一行代表了一个翻译对，并使用制表符tab作为中文（繁体字）和英文的分割。\n",
    "\n",
    "```\n",
    "Do it now.    現在就做。\n",
    "```\n",
    "我们使用独热矢量(one-hot vector)表示每一个单词，即除了单个单词（在单词的索引处）以外所有值都为零的巨大矢量。每一个语言中有非常多的单词，为简单起见，我们删除掉部分数据，只使用有限的单词构成的句子。\n",
    "\n",
    "我们需要每个单词的唯一索引作为网络的输入和目标。为了跟踪所有词，并且标记序列的起始和结束。我们将构建一个`Lang`的类，它具有词→索引（`word2index`）和索引→词（`index2word`）的字典，以及每个单词的计数`word2count`用于以后替换罕见的词。"
   ]
  },
  {
   "cell_type": "code",
   "execution_count": 2,
   "metadata": {},
   "outputs": [],
   "source": [
    "# 用来确定句子序列开始与终止\n",
    "SOS_token = 0 # 序列起始标记\n",
    "EOS_token = 1 # 序列终止标记\n",
    "\n",
    "class Lang:\n",
    "    \"\"\"\n",
    "    包含每个语言单词数的统计信息，\n",
    "    name:语言的名字简写, english -> eng, chinese -> chi\n",
    "    addSentence:统计句子数量\n",
    "    addWord:统计词语数量\n",
    "    \"\"\"\n",
    "    def __init__(self, name):\n",
    "        self.name = name\n",
    "        self.word2index = {}\n",
    "        self.word2count = {}\n",
    "        self.index2word = {0: \"SOS\", 1: \"EOS\"}\n",
    "        self.n_words = 2  # 包含SOS 和 EOS, 所以一开始词语数量为2\n",
    "\n",
    "    def addSentence(self, sentence):\n",
    "        # 满足条件为中文，需要使用jieba分词，否则使用空格分词\n",
    "        if len(sentence.split(' ')) == 1: \n",
    "            for word in list(jieba.cut(sentence)):\n",
    "                self.addWord(word)\n",
    "        else:\n",
    "            for word in sentence.split(' '):\n",
    "                self.addWord(word)\n",
    "\n",
    "    def addWord(self, word):\n",
    "        if word not in self.word2index:\n",
    "            # 词 -> 索引\n",
    "            self.word2index[word] = self.n_words\n",
    "            self.word2count[word] = 1\n",
    "            # 索引 -> 词\n",
    "            self.index2word[self.n_words] = word \n",
    "            self.n_words += 1\n",
    "        else:\n",
    "            self.word2count[word] += 1"
   ]
  },
  {
   "cell_type": "markdown",
   "metadata": {},
   "source": [
    "这些文件都是Unicode格式，为了简化我们将Unicode字符转换为ASCII格式，并使所有内容都变成小写字母，修剪大部分标点符号。"
   ]
  },
  {
   "cell_type": "code",
   "execution_count": 3,
   "metadata": {},
   "outputs": [],
   "source": [
    "# Unicode转换成ASCII格式\n",
    "def unicodeToAscii(s):\n",
    "    return ''.join(\n",
    "        c for c in unicodedata.normalize('NFD', s)\n",
    "        if unicodedata.category(c) != 'Mn'\n",
    "    )\n",
    "\n",
    "# 小写, 修剪并且去除非字母字符\n",
    "def normalizeString(s):\n",
    "    s = unicodeToAscii(s.lower().strip())\n",
    "    s = re.sub(r\"([.!?])\", r\" \\1\", s) # 为了能够单独将符号分割出来\n",
    "    s = re.sub(r\"[^a-zA-Z.!?]+\", r\" \", s)\n",
    "    return s"
   ]
  },
  {
   "cell_type": "markdown",
   "metadata": {},
   "source": [
    "我们首先将文件分割成多行，然后将行分成中文-英文对。这些样本都是英文→中文的排列方式，而我们想从中文→英文的演绎，所以添加了`reverse`来反转翻译对。"
   ]
  },
  {
   "cell_type": "code",
   "execution_count": 4,
   "metadata": {},
   "outputs": [],
   "source": [
    "def readLangs(lang1, lang2, reverse=False):\n",
    "    \"\"\"\n",
    "    读取翻译原始文件，并返回输入实例和输出实例及翻译对\n",
    "    输入参数：源语言 lang1，目标语言 lang2，是否反转翻译对 reverse\n",
    "    输出参数：输入序列 input_lang，输出序列 output_lang，翻译对 pairs\n",
    "    \"\"\"\n",
    "    print(\"Reading lines...\")\n",
    "\n",
    "    # 读取文件并分割为多行\n",
    "    lines = open('./input/%s-%s.txt' % (lang1, lang2), encoding='utf-8').\\\n",
    "    read().strip().split('\\n')\n",
    "\n",
    "    # 分割每一行翻译对并规整字符串\n",
    "    pairs = [[normalizeString(l.split('\\t')[0]), l.split('\\t')[1]]\\\n",
    "         for l in lines]\n",
    "\n",
    "    # 反转翻译对，并创建输入输出序列\n",
    "    if reverse:\n",
    "        pairs = [list(reversed(p)) for p in pairs]\n",
    "        input_lang = Lang(lang2)\n",
    "        output_lang = Lang(lang1)\n",
    "    else:\n",
    "        input_lang = Lang(lang1)\n",
    "        output_lang = Lang(lang2)\n",
    "    return input_lang, output_lang, pairs"
   ]
  },
  {
   "cell_type": "markdown",
   "metadata": {},
   "source": [
    "由于有很多例句，我们希望快速训练，所以我们将数据集裁剪为相对简短的句子，这里的英文句子最大长度`MAX_LENGTH`设置10个字符（包括结尾标点符号）。\n",
    "\n",
    "然后我们过滤翻译对，只保留翻译成形如\"I am\"或\"He is\"等的句子（并且考虑缩写情况\"I'm\"和\"He's\"等）。"
   ]
  },
  {
   "cell_type": "code",
   "execution_count": 5,
   "metadata": {},
   "outputs": [],
   "source": [
    "MAX_LENGTH = 10\n",
    "\n",
    "eng_prefixes = (\n",
    "    \"i am \", \"i m \",\n",
    "    \"he is\", \"he s \",\n",
    "    \"she is\", \"she s\",\n",
    "    \"you are\", \"you re \",\n",
    "    \"we are\", \"we re \",\n",
    "    \"they are\", \"they re \"\n",
    ")\n",
    "\n",
    "def filterPair(p):\n",
    "    \"\"\"\n",
    "    单个翻译对过滤，过滤条件：分词后，中文词数小于MAX_LENGTH，\n",
    "    英文单词数小于MAX_LENGTH，\n",
    "    且以eng_prefixes中的元素开始\n",
    "    \"\"\"\n",
    "    return len(list(jieba.cut(p[0]))) < MAX_LENGTH and \\\n",
    "        len(p[1].split(' ')) < MAX_LENGTH and \\\n",
    "        p[1].startswith(eng_prefixes)\n",
    "\n",
    "def filterPairs(pairs):\n",
    "    \"\"\"\n",
    "    对所有的翻译对进行过滤，并返回一个嵌套列表\n",
    "    \"\"\"\n",
    "    return [pair for pair in pairs if filterPair(pair)]"
   ]
  },
  {
   "cell_type": "markdown",
   "metadata": {},
   "source": [
    "整个准备数据的完整过程是：\n",
    "\n",
    "+ 读取文本文件并拆分成行，将行拆分成翻译对\n",
    "+ 使文本规整，按照长度和内容进行过滤\n",
    "+ 从成对的句子中做出单词列表"
   ]
  },
  {
   "cell_type": "code",
   "execution_count": 6,
   "metadata": {},
   "outputs": [
    {
     "name": "stdout",
     "output_type": "stream",
     "text": [
      "Reading lines...\n"
     ]
    },
    {
     "name": "stderr",
     "output_type": "stream",
     "text": [
      "Building prefix dict from the default dictionary ...\n",
      "Loading model from cache /tmp/jieba.cache\n"
     ]
    },
    {
     "name": "stdout",
     "output_type": "stream",
     "text": [
      "Read 19577 sentence pairs\n"
     ]
    },
    {
     "name": "stderr",
     "output_type": "stream",
     "text": [
      "Loading model cost 1.232 seconds.\n",
      "Prefix dict has been built succesfully.\n"
     ]
    },
    {
     "name": "stdout",
     "output_type": "stream",
     "text": [
      "Trimmed to 1379 sentence pairs\n",
      "Counting words...\n",
      "Counted words:\n",
      "chi 1731\n",
      "eng 1209\n",
      "我們|全體|為|日本|祈禱|。 we are all praying for japan .\n"
     ]
    }
   ],
   "source": [
    "def prepareData(lang1, lang2, reverse=False):\n",
    "    # 读数据\n",
    "    input_lang, output_lang, pairs = readLangs(lang1, lang2, reverse) \n",
    "    print(\"Read %s sentence pairs\" % len(pairs))\n",
    "    # 过滤数据\n",
    "    pairs = filterPairs(pairs) \n",
    "    print(\"Trimmed to %s sentence pairs\" % len(pairs))\n",
    "    print(\"Counting words...\")\n",
    "    for pair in pairs:\n",
    "        input_lang.addSentence(pair[0])\n",
    "        output_lang.addSentence(pair[1])\n",
    "    print(\"Counted words:\")\n",
    "    print(input_lang.name, input_lang.n_words)\n",
    "    print(output_lang.name, output_lang.n_words)\n",
    "    return input_lang, output_lang, pairs\n",
    "\n",
    "input_lang, output_lang, pairs = prepareData('eng', 'chi', True)\n",
    "# 随机选择样本进行展示\n",
    "sample = random.choice(pairs) \n",
    "print('|'.join(jieba.cut(sample[0])), sample[1])"
   ]
  },
  {
   "cell_type": "markdown",
   "metadata": {},
   "source": [
    "<div id=\"3\"></div>\n",
    "\n",
    "# 3 Seq2Seq模型"
   ]
  },
  {
   "cell_type": "markdown",
   "metadata": {},
   "source": [
    "递归神经网络（RNN）是一个按照序列运行的网络，它将自己的输出当做后续步骤的输入。\n",
    "\n",
    "Seq2Seq网络或编码器-解码器网络是由两个称为编码器和解码器的RNN组成的模型。 编码器读取输入序列并输出单个矢量（上下文向量context），解码器读取该矢量以产生输出序列。\n",
    "\n",
    "与使用单个RNN的序列预测不同，每个输入对应于一个输出，Seq2Seq模型将我们从序列长度和顺序中解放出来，这使得它成为两种语言之间进行翻译的理想工具。\n",
    "\n",
    "考虑“我|對|這個|故事|感興趣|”→“i am interested in this story”这个句子。输入句子中的大部分单词在输出句子中具有直接翻译，但是顺序稍有不同，例如，“故事感兴趣”和“interested in this story”。并且输入句子相较于输出还少一个词。直接从输入词序列中产生正确的翻译将是困难的。\n",
    "\n",
    "使用Seq2Seq模型，编码器会创建一个单一的上下文矢量，在理想的情况下，将输入序列的“含义”编码为这个上下文矢量——$N$维上下文空间中的单个点。"
   ]
  },
  {
   "cell_type": "markdown",
   "metadata": {},
   "source": [
    "<div id=\"3.1\"></div>\n",
    "\n",
    "## 3.1 编码器"
   ]
  },
  {
   "cell_type": "markdown",
   "metadata": {},
   "source": [
    "Seq2Seq网络的编码器是一个RNN，它为输入句子中的每个单词输出一些值。对于每个输入，编码器输出一个向量和一个隐藏状态，并将隐藏状态作为下一轮迭代的输入。\n"
   ]
  },
  {
   "cell_type": "markdown",
   "metadata": {},
   "source": [
    "![png](http://cookdata.cn/media/note_images/encoder-network_1560754383753_5d14.jpg)"
   ]
  },
  {
   "cell_type": "code",
   "execution_count": 7,
   "metadata": {
    "collapsed": true
   },
   "outputs": [],
   "source": [
    "# 编码器\n",
    "class EncoderRNN(nn.Module):\n",
    "    def __init__(self, input_size, hidden_size, n_layers=1):\n",
    "        super(EncoderRNN, self).__init__()\n",
    "        self.n_layers = n_layers\n",
    "        self.hidden_size = hidden_size\n",
    "\n",
    "        # word embedding 词向量维度即为 input_size × hidden_size\n",
    "        self.embedding = nn.Embedding(input_size, hidden_size)\n",
    "        # 编码器就是一个RNN-GRU\n",
    "        self.gru = nn.GRU(hidden_size, hidden_size)\n",
    "\n",
    "    # 向前传播\n",
    "    def forward(self, input, hidden):\n",
    "        # 展开为向量\n",
    "        output = self.embedding(input).view(1, 1, -1) \n",
    "        for i in range(self.n_layers):\n",
    "            output, hidden = self.gru(output, hidden)\n",
    "        return output, hidden\n",
    "\n",
    "    def initHidden(self):\n",
    "        result = Variable(torch.zeros(1, 1, self.hidden_size))\n",
    "        if use_cuda:\n",
    "            return result.cuda()\n",
    "        else:\n",
    "            return result"
   ]
  },
  {
   "cell_type": "markdown",
   "metadata": {},
   "source": [
    "<div id=\"3.2\"></div>\n",
    "\n",
    "## 3.2 解码器"
   ]
  },
  {
   "cell_type": "markdown",
   "metadata": {},
   "source": [
    "解码器是另一个RNN，它接收编码器的输出向量作为输入并输出得到翻译序列。"
   ]
  },
  {
   "cell_type": "markdown",
   "metadata": {},
   "source": [
    "<div id=\"3.2.1\"></div>\n",
    "\n",
    "## 3.2.1 简单的解码器"
   ]
  },
  {
   "cell_type": "markdown",
   "metadata": {},
   "source": [
    "在最简单的Seq2Seq解码器中，我们只使用编码器的最后一个输出。这个最后的输出即是上下文向量，因为它从整个序列编码得到。该上下文向量被用作解码器的初始隐藏状态。\n",
    "\n",
    "在解码的每一步，解码器都被赋予一个输入令牌（input token）和隐藏状态。初始输入令牌是标记序列开始的`<SOS>`，第一个隐藏状态是上下文向量（编码器的最后隐藏状态）。\n"
   ]
  },
  {
   "cell_type": "markdown",
   "metadata": {},
   "source": [
    "![png](http://cookdata.cn/media/note_images/decoder-network_1560754751098_5d14.jpg)"
   ]
  },
  {
   "cell_type": "code",
   "execution_count": 8,
   "metadata": {
    "collapsed": true
   },
   "outputs": [],
   "source": [
    "# 解码器\n",
    "class DecoderRNN(nn.Module):\n",
    "    def __init__(self, hidden_size, output_size, n_layers=1):\n",
    "        super(DecoderRNN, self).__init__()\n",
    "        self.n_layers = n_layers\n",
    "        self.hidden_size = hidden_size\n",
    "\n",
    "        # words embedding\n",
    "        self.embedding = nn.Embedding(output_size, hidden_size)\n",
    "        # 解码器也是一个RNN-GRU\n",
    "        self.gru = nn.GRU(hidden_size, hidden_size)\n",
    "        self.out = nn.Linear(hidden_size, output_size)\n",
    "        # 经过log softmax激活函数\n",
    "        self.softmax = nn.LogSoftmax()\n",
    "\n",
    "    # 向前传播\n",
    "    def forward(self, input, hidden):\n",
    "        # 展开为向量\n",
    "        output = self.embedding(input).view(1, 1, -1)\n",
    "        for i in range(self.n_layers):\n",
    "            output = F.relu(output)\n",
    "            output, hidden = self.gru(output, hidden)\n",
    "        output = self.softmax(self.out(output[0]))\n",
    "        return output, hidden\n",
    "\n",
    "    def initHidden(self):\n",
    "        result = Variable(torch.zeros(1, 1, self.hidden_size))\n",
    "        if use_cuda:\n",
    "            return result.cuda()\n",
    "        else:\n",
    "            return result"
   ]
  },
  {
   "cell_type": "markdown",
   "metadata": {},
   "source": [
    "可以尝试训练和观察这个模型的结果，但为了节省时间，我们将直接引入带注意机制的解码器网络。\n",
    "\n",
    "使用带注意力机制的解码器Seq2Seq模型，其编码器是没有变化的，依旧是一个RNN-GRU，不用更改。\n"
   ]
  },
  {
   "cell_type": "markdown",
   "metadata": {},
   "source": [
    "<div id=\"3.2.2\"></div>\n",
    "\n",
    "## 3.2.2 Attention解码器"
   ]
  },
  {
   "cell_type": "markdown",
   "metadata": {},
   "source": [
    "如果仅在编码器和解码器之间传递上下文向量，则该单个向量承担编码整个句子的负担。\n",
    "\n",
    "注意机制允许解码器网络在解码器自身输出的每一步“聚焦”编码器输出的不同部分。首先我们计算一组注意力权重。这些将被乘以编码器输出矢量以创建加权组合。结果（在代码中称为`attn_applied`）应该包含关于输入序列的特定部分的信息，从而帮助解码器选择正确的输出字。\n"
   ]
  },
  {
   "cell_type": "markdown",
   "metadata": {},
   "source": [
    "![png](http://cookdata.cn/media/note_images/attention_1560754808346_5d14.jpg)"
   ]
  },
  {
   "cell_type": "markdown",
   "metadata": {},
   "source": [
    "使用解码器的输入和隐藏状态作为输入，利用另一前馈层`attn`来计算注意力权重。由于在训练数据中有各种大小的句子，为了实际创建和训练这个层，我们必须选择一个最大的句子长度（输入长度，用于编码器的输出）。最大长度的句子将使用所有的注意权重，而较短的句子将只使用前几个。\n"
   ]
  },
  {
   "cell_type": "markdown",
   "metadata": {},
   "source": [
    "![png](http://cookdata.cn/media/note_images/attention-decoder-network_1560754824456_5d14.jpg)"
   ]
  },
  {
   "cell_type": "markdown",
   "metadata": {},
   "source": [
    "+ 在Seq2Seq模型中，我们要使用双向循环神经网络来计算输入的隐状态。这是因为如果只是用单向循环神经网络，在计算注意力权重参数$\\alpha_{ij}$时，会造成前后文信息的丢失"
   ]
  },
  {
   "cell_type": "code",
   "execution_count": 9,
   "metadata": {
    "collapsed": true
   },
   "outputs": [],
   "source": [
    "# 带注意力机制的解码器\n",
    "class AttnDecoderRNN(nn.Module):\n",
    "    def __init__(self, hidden_size, output_size, n_layers=1, dropout_p=0.1, max_length=MAX_LENGTH):\n",
    "        super(AttnDecoderRNN, self).__init__()\n",
    "        self.hidden_size = hidden_size\n",
    "        self.output_size = output_size\n",
    "        self.n_layers = n_layers\n",
    "        self.dropout_p = dropout_p\n",
    "        self.max_length = max_length\n",
    "\n",
    "        # word embedding 词向量\n",
    "        self.embedding = nn.Embedding(self.output_size, self.hidden_size)\n",
    "        # 在带注意力机制的解码器中，我们要使用双向RNN模型\n",
    "        self.attn = nn.Linear(self.hidden_size * 2, self.max_length)\n",
    "        self.attn_combine = nn.Linear(self.hidden_size * 2, self.hidden_size)\n",
    "        self.dropout = nn.Dropout(self.dropout_p)\n",
    "        \n",
    "        self.gru = nn.GRU(self.hidden_size, self.hidden_size)\n",
    "        self.out = nn.Linear(self.hidden_size, self.output_size)\n",
    "\n",
    "    def forward(self, input, hidden, encoder_output, encoder_outputs):\n",
    "        embedded = self.embedding(input).view(1, 1, -1)  # 展开为向量\n",
    "        embedded = self.dropout(embedded)\n",
    "\n",
    "        # 使用另外一个前馈神经网络 self.attn 计算注意力权重参数\n",
    "        attn_weights = F.softmax(\n",
    "            self.attn(torch.cat((embedded[0], hidden[0]), 1)))\n",
    "        # 注意力参数与编码器得到的隐状态做加权和\n",
    "        attn_applied = torch.bmm(attn_weights.unsqueeze(0),\n",
    "                                 encoder_outputs.unsqueeze(0))\n",
    "\n",
    "        output = torch.cat((embedded[0], attn_applied[0]), 1)\n",
    "        output = self.attn_combine(output).unsqueeze(0)\n",
    "\n",
    "        # 向前传播\n",
    "        for i in range(self.n_layers):\n",
    "            output = F.relu(output)\n",
    "            output, hidden = self.gru(output, hidden)\n",
    "\n",
    "        # log-softmax激活函数 --> 与一般的解码器是相同的\n",
    "        output = F.log_softmax(self.out(output[0]))\n",
    "        return output, hidden, attn_weights\n",
    "\n",
    "    def initHidden(self):\n",
    "        result = Variable(torch.zeros(1, 1, self.hidden_size))\n",
    "        if use_cuda:\n",
    "            return result.cuda()\n",
    "        else:\n",
    "            return result"
   ]
  },
  {
   "cell_type": "markdown",
   "metadata": {},
   "source": [
    "<div id=\"4\"></div>\n",
    "\n",
    "# 4 训练"
   ]
  },
  {
   "cell_type": "markdown",
   "metadata": {},
   "source": [
    "<div id=\"4.1\"></div>\n",
    "\n",
    "## 4.1 准备训练数据"
   ]
  },
  {
   "cell_type": "markdown",
   "metadata": {},
   "source": [
    "为了便于训练，我们将需要一一对应的输入tensor（输入句子中的词的索引）和目标tensor（目标句中的词的索引）。在创建这些向量时，我们会将`<EOS>`标记附加到两个语言的序列中。"
   ]
  },
  {
   "cell_type": "code",
   "execution_count": 10,
   "metadata": {
    "collapsed": true
   },
   "outputs": [],
   "source": [
    "def indexesFromSentence(lang, sentence):\n",
    "    if len(sentence.split(' ')) == 1:\n",
    "        words = list(jieba.cut(sentence)) # jieba中文分词\n",
    "    else:\n",
    "        words = sentence.split(' ')\n",
    "    return [lang.word2index[word] for word in words] # 空格英文分词\n",
    "\n",
    "def variableFromSentence(lang, sentence):\n",
    "    indexes = indexesFromSentence(lang, sentence)\n",
    "    indexes.append(EOS_token)\n",
    "    result = Variable(torch.LongTensor(indexes).view(-1, 1))\n",
    "    if use_cuda:\n",
    "        return result.cuda()\n",
    "    else:\n",
    "        return result\n",
    "\n",
    "def variablesFromPair(pair):\n",
    "    input_variable = variableFromSentence(input_lang, pair[0])\n",
    "    target_variable = variableFromSentence(output_lang, pair[1])\n",
    "    return (input_variable, target_variable)"
   ]
  },
  {
   "cell_type": "markdown",
   "metadata": {},
   "source": [
    "<div id=\"4.2\"></div>\n",
    "\n",
    "## 4.2 训练模型"
   ]
  },
  {
   "cell_type": "markdown",
   "metadata": {},
   "source": [
    "在训练时，我们将待翻译的序列输入编码器，并跟踪每个输出和最新的隐藏状态。然后解码器被赋予`<SOS>`令牌作为其第一个输入，而编码器的最后一个隐藏状态作为解码器的第一个隐藏状态。\n",
    "\n",
    "在解码器训练时，我们将使用“导师驱动(teaching forcing)”机制，即将实际目标输出用作下一个输入，而不是将解码器的猜测用作下一个输入。使用导师驱动目的是希望损失能更快地收敛，但是使用这个机制训练出来的网络在预测阶段可能表现出不稳定性。\n",
    "\n",
    "使用导师驱动得到的网络可以学习到连贯的语法，但离正确的翻译还是有一段距离。直观地说，它已经学会了代表输出语法，并且可以在导师告诉它的前几个单词时“拾取”意义，但是从翻译的角度来看，它还没有很好的习得如何去创造句子。\n",
    "\n",
    "由于PyTorch的`autograd`给了我们很大的自由选择空间，我们可以很方便的使用if语句选择使用导师驱动的网络或者非导师驱动的网络。可以使用`teacher_forcing_ratio`来指定使用导师驱动的程度。"
   ]
  },
  {
   "cell_type": "code",
   "execution_count": 11,
   "metadata": {
    "collapsed": true
   },
   "outputs": [],
   "source": [
    "teacher_forcing_ratio = 0.5\n",
    "\n",
    "\n",
    "def train(input_variable, target_variable, encoder, decoder, encoder_optimizer, decoder_optimizer, criterion, max_length=MAX_LENGTH):\n",
    "    encoder_hidden = encoder.initHidden()\n",
    "\n",
    "    # 权值初始化\n",
    "    encoder_optimizer.zero_grad()\n",
    "    decoder_optimizer.zero_grad()\n",
    "\n",
    "    input_length = input_variable.size()[0]\n",
    "    target_length = target_variable.size()[0]\n",
    "\n",
    "    encoder_outputs = Variable(torch.zeros(max_length, encoder.hidden_size))\n",
    "    encoder_outputs = encoder_outputs.cuda() if use_cuda else encoder_outputs\n",
    "\n",
    "    loss = 0\n",
    "\n",
    "    for ei in range(input_length):\n",
    "        encoder_output, encoder_hidden = encoder(\n",
    "            input_variable[ei], encoder_hidden)\n",
    "        encoder_outputs[ei] = encoder_output[0][0]\n",
    "\n",
    "    # SOS_token作为解码器的第一个输入\n",
    "    decoder_input = Variable(torch.LongTensor([[SOS_token]]))\n",
    "    decoder_input = decoder_input.cuda() if use_cuda else decoder_input\n",
    "\n",
    "    decoder_hidden = encoder_hidden\n",
    "\n",
    "    use_teacher_forcing = True if random.random() < teacher_forcing_ratio else False\n",
    "\n",
    "    if use_teacher_forcing:\n",
    "        # 导师驱动：使用目标输出作为下一个隐层的输入\n",
    "        for di in range(target_length):\n",
    "            decoder_output, decoder_hidden, decoder_attention = decoder(\n",
    "                decoder_input, decoder_hidden, encoder_output, encoder_outputs)\n",
    "            # 损失值\n",
    "            loss += criterion(decoder_output, target_variable[di])\n",
    "            decoder_input = target_variable[di]\n",
    "\n",
    "    else:\n",
    "        # 非导师驱动: 使用预测值作为下一个隐层的输入\n",
    "        for di in range(target_length):\n",
    "            decoder_output, decoder_hidden, decoder_attention = decoder(\n",
    "                decoder_input, decoder_hidden, encoder_output, encoder_outputs)\n",
    "            topv, topi = decoder_output.data.topk(1)\n",
    "            ni = topi[0][0]\n",
    "\n",
    "            decoder_input = Variable(torch.LongTensor([[ni]]))\n",
    "            decoder_input = decoder_input.cuda() if use_cuda else decoder_input\n",
    "\n",
    "            # 损失值\n",
    "            loss += criterion(decoder_output, target_variable[di])\n",
    "            if ni == EOS_token:\n",
    "                break\n",
    "\n",
    "    # 向后传播\n",
    "    loss.backward()\n",
    "\n",
    "    # 梯度更新\n",
    "    encoder_optimizer.step()\n",
    "    decoder_optimizer.step()\n",
    "\n",
    "    return loss.item() / target_length"
   ]
  },
  {
   "cell_type": "markdown",
   "metadata": {},
   "source": [
    "为了能够实时观察训练的进度，我们定义两个辅助函数："
   ]
  },
  {
   "cell_type": "code",
   "execution_count": 12,
   "metadata": {
    "collapsed": true
   },
   "outputs": [],
   "source": [
    "import time\n",
    "import math\n",
    "\n",
    "def asMinutes(s):\n",
    "    # 记录分钟\n",
    "    m = math.floor(s / 60)\n",
    "    # 记录秒\n",
    "    s -= m * 60\n",
    "    return '%dm %ds' % (m, s)\n",
    "\n",
    "def timeSince(since, percent):\n",
    "    now = time.time()\n",
    "    s = now - since\n",
    "    es = s / (percent)\n",
    "    rs = es - s\n",
    "    return '%s - %s' % (asMinutes(s), asMinutes(rs))"
   ]
  },
  {
   "cell_type": "markdown",
   "metadata": {},
   "source": [
    "总结整个训练过程如下：\n",
    "\n",
    "+ 启动一个计时器\n",
    "+ 初始化优化器optimizers和损失函数criterion\n",
    "+ 创建用于训练的翻译对\n",
    "+ 不断计算损失以绘制图形\n",
    "\n",
    "然后我们将模型代入训练函数`train`，设定学习率为0.01，使用SGD进行优化，并且实时输出训练进度（训练数据的完成百分比，时间耗费，剩余时间估计）和平均损失。"
   ]
  },
  {
   "cell_type": "code",
   "execution_count": 13,
   "metadata": {
    "collapsed": true
   },
   "outputs": [],
   "source": [
    "def trainIters(encoder, decoder, n_iters, print_every=100, plot_every=100, learning_rate=0.01):\n",
    "    start = time.time()\n",
    "    plot_losses = []\n",
    "    print_loss_total = 0\n",
    "    plot_loss_total = 0 \n",
    "\n",
    "    # 优化器\n",
    "    encoder_optimizer = optim.SGD(encoder.parameters(), lr=learning_rate)\n",
    "    decoder_optimizer = optim.SGD(decoder.parameters(), lr=learning_rate)\n",
    "    training_pairs = [variablesFromPair(random.choice(pairs))\n",
    "                      for i in range(n_iters)]\n",
    "    # NLL损失函数\n",
    "    criterion = nn.NLLLoss() \n",
    "\n",
    "    for iter in range(1, n_iters + 1):\n",
    "        training_pair = training_pairs[iter - 1]\n",
    "        input_variable = training_pair[0]\n",
    "        target_variable = training_pair[1]\n",
    "\n",
    "        # 损失值\n",
    "        loss = train(input_variable, target_variable, encoder,\n",
    "                     decoder, encoder_optimizer, decoder_optimizer, criterion)\n",
    "        print_loss_total += loss\n",
    "        plot_loss_total += loss\n",
    "\n",
    "        if iter % print_every == 0:\n",
    "            print_loss_avg = print_loss_total / print_every\n",
    "            print_loss_total = 0\n",
    "            print('%s (%d %d%%) %.4f' % (timeSince(start, iter / n_iters),\n",
    "                                         iter, iter / n_iters * 100, print_loss_avg))\n",
    "\n",
    "        if iter % plot_every == 0:\n",
    "            plot_loss_avg = plot_loss_total / plot_every\n",
    "            plot_losses.append(plot_loss_avg)\n",
    "            plot_loss_total = 0\n",
    "\n",
    "    showPlot(plot_losses)"
   ]
  },
  {
   "cell_type": "markdown",
   "metadata": {},
   "source": [
    "<div id=\"4.3\"></div>\n",
    "\n",
    "## 4.3 绘制结果"
   ]
  },
  {
   "cell_type": "markdown",
   "metadata": {},
   "source": [
    "为了直观的看出训练过程中损失值的变化情况。我们使用`matplotlib`完成绘图，同时使用训练时保存的损失值`plot_losses`数组。"
   ]
  },
  {
   "cell_type": "code",
   "execution_count": 14,
   "metadata": {
    "collapsed": true
   },
   "outputs": [],
   "source": [
    "import matplotlib.pyplot as plt\n",
    "import matplotlib.ticker as ticker\n",
    "import numpy as np\n",
    "%matplotlib inline\n",
    "\n",
    "\n",
    "def showPlot(points):\n",
    "    plt.figure()\n",
    "    fig, ax = plt.subplots()\n",
    "    # loc控制刻度间隔\n",
    "    loc = ticker.MultipleLocator(base=0.2)\n",
    "    ax.yaxis.set_major_locator(loc)\n",
    "    plt.plot(points)"
   ]
  },
  {
   "cell_type": "markdown",
   "metadata": {},
   "source": [
    "<div id=\"5\"></div>\n",
    "\n",
    "# 5 评估"
   ]
  },
  {
   "cell_type": "markdown",
   "metadata": {},
   "source": [
    "评估与训练大体相同，但没有目标，因此我们只是将解码器的预测反馈给每一步。 每次预测一个单词，我们将它添加到输出字符串，如果它预测`<EOS>`令牌，我们就停止输出新的字符。我们也存储了解码器的注意力输出以供稍后对注意力进行分析。"
   ]
  },
  {
   "cell_type": "code",
   "execution_count": 15,
   "metadata": {
    "collapsed": true
   },
   "outputs": [],
   "source": [
    "def evaluate(encoder, decoder, sentence, max_length=MAX_LENGTH):\n",
    "    input_variable = variableFromSentence(input_lang, sentence)\n",
    "    input_length = input_variable.size()[0]\n",
    "    encoder_hidden = encoder.initHidden()\n",
    "\n",
    "    encoder_outputs = Variable(torch.zeros(max_length, encoder.hidden_size))\n",
    "    encoder_outputs = encoder_outputs.cuda() if use_cuda else encoder_outputs\n",
    "\n",
    "    # 这里与训练模型时是类似的\n",
    "    for ei in range(input_length):\n",
    "        encoder_output, encoder_hidden = encoder(input_variable[ei],\n",
    "                                                 encoder_hidden)\n",
    "        encoder_outputs[ei] = encoder_outputs[ei] + encoder_output[0][0]\n",
    "\n",
    "    # SOS_token作为解码器的第一个输入\n",
    "    decoder_input = Variable(torch.LongTensor([[SOS_token]]))  \n",
    "    decoder_input = decoder_input.cuda() if use_cuda else decoder_input\n",
    "\n",
    "    decoder_hidden = encoder_hidden\n",
    "\n",
    "    decoded_words = []\n",
    "    decoder_attentions = torch.zeros(max_length, max_length)\n",
    "\n",
    "    for di in range(max_length):\n",
    "        decoder_output, decoder_hidden, decoder_attention = decoder(\n",
    "            decoder_input, decoder_hidden, encoder_output, encoder_outputs)\n",
    "        decoder_attentions[di] = decoder_attention.data\n",
    "        topv, topi = decoder_output.data.topk(1)\n",
    "        ni = topi[0][0]\n",
    "        # 如果得到EOS_token，停止输出\n",
    "        if ni == EOS_token:\n",
    "            decoded_words.append('<EOS>')\n",
    "            break\n",
    "        else:\n",
    "            decoded_words.append(output_lang.index2word[int(ni)])\n",
    "\n",
    "        decoder_input = Variable(torch.LongTensor([[ni]]))\n",
    "        decoder_input = decoder_input.cuda() if use_cuda else decoder_input\n",
    "\n",
    "    return decoded_words, decoder_attentions[:di + 1]"
   ]
  },
  {
   "cell_type": "markdown",
   "metadata": {},
   "source": [
    "我们可以从训练集中随机挑选句子进行评估，并打印输入、目标和输出以对模型做一些分析："
   ]
  },
  {
   "cell_type": "code",
   "execution_count": 16,
   "metadata": {
    "collapsed": true
   },
   "outputs": [],
   "source": [
    "\"\"\"\n",
    "    > 中文语句\n",
    "    = 目标翻译\n",
    "    < 模型翻译\n",
    "\"\"\"\n",
    "def evaluateRandomly(encoder, decoder, n=10):\n",
    "    for i in range(n):\n",
    "        pair = random.choice(pairs)\n",
    "        print('>', pair[0])\n",
    "        print('=', pair[1])\n",
    "        output_words, attentions = evaluate(encoder, decoder, pair[0])\n",
    "        output_sentence = ' '.join(output_words)\n",
    "        print('<', output_sentence)\n",
    "        print('')"
   ]
  },
  {
   "cell_type": "markdown",
   "metadata": {},
   "source": [
    "<div id=\"5.1\"></div>\n",
    "\n",
    "# 5.1 执行训练和评估过程"
   ]
  },
  {
   "cell_type": "markdown",
   "metadata": {},
   "source": [
    "前面定义了非常多的函数，并未开始任何的训练过程，虽然看起来像是额外的工作，但这更容易运行多个实验。\n",
    "\n",
    "现在，我们可以正式初始化一个网络并开始训练。\n",
    "\n",
    "需要注意的是，输入的句子被严重过滤（从19577缩减为1379）。对于这个小数据集，我们可以使用256个隐藏节点和一个`GRU`层（门控单元）的相对较小的网络。 "
   ]
  },
  {
   "cell_type": "code",
   "execution_count": 17,
   "metadata": {},
   "outputs": [
    {
     "name": "stderr",
     "output_type": "stream",
     "text": [
      "/explorer/pyenv/jupyter-py36/lib/python3.6/site-packages/ipykernel_launcher.py:22: UserWarning: Implicit dimension choice for softmax has been deprecated. Change the call to include dim=X as an argument.\n",
      "/explorer/pyenv/jupyter-py36/lib/python3.6/site-packages/ipykernel_launcher.py:33: UserWarning: Implicit dimension choice for log_softmax has been deprecated. Change the call to include dim=X as an argument.\n"
     ]
    },
    {
     "name": "stdout",
     "output_type": "stream",
     "text": [
      "1m 44s (- 22m 33s) (5000 7%) 2.9993\n",
      "3m 20s (- 20m 2s) (10000 14%) 2.0066\n",
      "5m 2s (- 18m 27s) (15000 21%) 1.1277\n",
      "6m 41s (- 16m 42s) (20000 28%) 0.5095\n",
      "8m 15s (- 14m 52s) (25000 35%) 0.1953\n",
      "9m 58s (- 13m 17s) (30000 42%) 0.0975\n",
      "11m 38s (- 11m 38s) (35000 50%) 0.0691\n",
      "13m 10s (- 9m 52s) (40000 57%) 0.0523\n",
      "14m 47s (- 8m 13s) (45000 64%) 0.0446\n",
      "16m 19s (- 6m 31s) (50000 71%) 0.0464\n",
      "17m 56s (- 4m 53s) (55000 78%) 0.0456\n",
      "19m 29s (- 3m 14s) (60000 85%) 0.0403\n",
      "21m 7s (- 1m 37s) (65000 92%) 0.0379\n",
      "22m 48s (- 0m 0s) (70000 100%) 0.0384\n"
     ]
    },
    {
     "data": {
      "text/plain": [
       "<Figure size 432x288 with 0 Axes>"
      ]
     },
     "metadata": {},
     "output_type": "display_data"
    },
    {
     "data": {
      "image/png": "[encoded data removed]",
      "text/plain": [
       "<Figure size 432x288 with 1 Axes>"
      ]
     },
     "metadata": {
      "needs_background": "light"
     },
     "output_type": "display_data"
    }
   ],
   "source": [
    "# 隐藏节点\n",
    "hidden_size = 256\n",
    "\n",
    "# 编码器与带注意力机制的解码器\n",
    "encoder1 = EncoderRNN(input_lang.n_words, hidden_size)\n",
    "attn_decoder1 = AttnDecoderRNN(hidden_size, output_lang.n_words, 1, dropout_p=0.1)\n",
    "\n",
    "if use_cuda:\n",
    "    encoder1 = encoder1.cuda()\n",
    "    attn_decoder1 = attn_decoder1.cuda()\n",
    "\n",
    "# 正式训练\n",
    "trainIters(encoder1, attn_decoder1, 70000, print_every=5000)"
   ]
  },
  {
   "cell_type": "markdown",
   "metadata": {},
   "source": [
    "我们来看看翻译的效果。"
   ]
  },
  {
   "cell_type": "code",
   "execution_count": 19,
   "metadata": {},
   "outputs": [
    {
     "name": "stdout",
     "output_type": "stream",
     "text": [
      "> 我仍是这里的老板。\n",
      "= i m still the boss here .\n",
      "< i m still the boss here . <EOS>\n",
      "\n",
      "> 你一直忙。\n",
      "= you re always busy .\n",
      "< you re always busy . <EOS>\n",
      "\n",
      "> 他不是很擅長數學。\n",
      "= he is not very good at mathematics .\n",
      "< he is not very good at mathematics . <EOS>\n",
      "\n",
      "> 她中文有进步。\n",
      "= she is progressing in chinese .\n",
      "< she is progressing in chinese . <EOS>\n",
      "\n",
      "> 她既没钱，也不出名。\n",
      "= she s neither rich nor famous .\n",
      "< she s neither rich nor famous . <EOS>\n",
      "\n",
      "> 我太忙了，無法幫助他。\n",
      "= i m too busy to help him .\n",
      "< i m too busy to help him . <EOS>\n",
      "\n",
      "> 他是我弟弟的一個朋友。\n",
      "= he s a friend of my brother s .\n",
      "< he s a friend of my brother s . <EOS>\n",
      "\n",
      "> 我来自东京。\n",
      "= i m from tokyo .\n",
      "< i m from tokyo . <EOS>\n",
      "\n",
      "> 他很容易遲到。\n",
      "= he is apt to be late .\n",
      "< he is apt to be late . <EOS>\n",
      "\n",
      "> 他不是美国人。\n",
      "= he isn t an american .\n",
      "< he is not an american . <EOS>\n",
      "\n"
     ]
    },
    {
     "name": "stderr",
     "output_type": "stream",
     "text": [
      "/explorer/pyenv/jupyter-py36/lib/python3.6/site-packages/ipykernel_launcher.py:22: UserWarning: Implicit dimension choice for softmax has been deprecated. Change the call to include dim=X as an argument.\n",
      "/explorer/pyenv/jupyter-py36/lib/python3.6/site-packages/ipykernel_launcher.py:33: UserWarning: Implicit dimension choice for log_softmax has been deprecated. Change the call to include dim=X as an argument.\n"
     ]
    }
   ],
   "source": [
    "evaluateRandomly(encoder1, attn_decoder1)"
   ]
  },
  {
   "cell_type": "markdown",
   "metadata": {},
   "source": [
    "<div id=\"5.2\"></div>\n",
    "\n",
    "## 5.2 Attention过程可视化"
   ]
  },
  {
   "cell_type": "markdown",
   "metadata": {},
   "source": [
    "Attention机制的一个有用的特性是其高度可解释的输出。\n",
    "\n",
    "由于它用于对输入序列的特定编码器输出进行加权，所以我们可以看出在每个时间步网络关注的位置。\n",
    "\n",
    "通过`plt.matshow(attentions)`，将Attention输出显示为矩阵，其中列是输入步骤，行是输出步骤："
   ]
  },
  {
   "cell_type": "code",
   "execution_count": 20,
   "metadata": {},
   "outputs": [
    {
     "name": "stderr",
     "output_type": "stream",
     "text": [
      "/explorer/pyenv/jupyter-py36/lib/python3.6/site-packages/ipykernel_launcher.py:22: UserWarning: Implicit dimension choice for softmax has been deprecated. Change the call to include dim=X as an argument.\n",
      "/explorer/pyenv/jupyter-py36/lib/python3.6/site-packages/ipykernel_launcher.py:33: UserWarning: Implicit dimension choice for log_softmax has been deprecated. Change the call to include dim=X as an argument.\n"
     ]
    },
    {
     "data": {
      "text/plain": [
       "<matplotlib.image.AxesImage at 0x7f1fd0977630>"
      ]
     },
     "execution_count": 20,
     "metadata": {},
     "output_type": "execute_result"
    },
    {
     "data": {
      "image/png": "[encoded data removed]",
      "text/plain": [
       "<Figure size 320x288 with 1 Axes>"
      ]
     },
     "metadata": {
      "needs_background": "light"
     },
     "output_type": "display_data"
    }
   ],
   "source": [
    "pair_visual = random.choice(pairs)\n",
    "output_words, attentions = evaluate(\n",
    "    encoder1, attn_decoder1, pair_visual[0])\n",
    "plt.matshow(attentions.numpy())"
   ]
  },
  {
   "cell_type": "markdown",
   "metadata": {},
   "source": [
    "为了更好的可视化体验，我们加上坐标轴标记。"
   ]
  },
  {
   "cell_type": "code",
   "execution_count": 21,
   "metadata": {},
   "outputs": [
    {
     "name": "stderr",
     "output_type": "stream",
     "text": [
      "/explorer/pyenv/jupyter-py36/lib/python3.6/site-packages/ipykernel_launcher.py:22: UserWarning: Implicit dimension choice for softmax has been deprecated. Change the call to include dim=X as an argument.\n",
      "/explorer/pyenv/jupyter-py36/lib/python3.6/site-packages/ipykernel_launcher.py:33: UserWarning: Implicit dimension choice for log_softmax has been deprecated. Change the call to include dim=X as an argument.\n"
     ]
    },
    {
     "name": "stdout",
     "output_type": "stream",
     "text": [
      "input = 我一點也不擔心。\n",
      "output = i am not the least bit worried . <EOS>\n"
     ]
    },
    {
     "data": {
      "image/png": "[encoded data removed]",
      "text/plain": [
       "<Figure size 432x288 with 2 Axes>"
      ]
     },
     "metadata": {
      "needs_background": "light"
     },
     "output_type": "display_data"
    },
    {
     "name": "stdout",
     "output_type": "stream",
     "text": [
      "----------------------------------------------\n",
      "input = 我老打你\n",
      "output = i m not as you . <EOS>\n"
     ]
    },
    {
     "data": {
      "image/png": "[encoded data removed]",
      "text/plain": [
       "<Figure size 432x288 with 2 Axes>"
      ]
     },
     "metadata": {
      "needs_background": "light"
     },
     "output_type": "display_data"
    },
    {
     "name": "stdout",
     "output_type": "stream",
     "text": [
      "----------------------------------------------\n",
      "input = 打那个狗\n",
      "output = i am afraid of dogs . <EOS>\n"
     ]
    },
    {
     "data": {
      "image/png": "[encoded data removed]",
      "text/plain": [
       "<Figure size 432x288 with 2 Axes>"
      ]
     },
     "metadata": {
      "needs_background": "light"
     },
     "output_type": "display_data"
    },
    {
     "name": "stdout",
     "output_type": "stream",
     "text": [
      "----------------------------------------------\n",
      "input = 男人，就要勇敢一点\n",
      "output = she s not the same hat . <EOS>\n"
     ]
    },
    {
     "data": {
      "image/png": "[encoded data removed]",
      "text/plain": [
       "<Figure size 432x288 with 2 Axes>"
      ]
     },
     "metadata": {
      "needs_background": "light"
     },
     "output_type": "display_data"
    },
    {
     "name": "stdout",
     "output_type": "stream",
     "text": [
      "----------------------------------------------\n"
     ]
    }
   ],
   "source": [
    "# 绘制图形\n",
    "def showAttention(input_sentence, output_words, attentions):\n",
    "    # 设置带 colorbar 的图形\n",
    "    fig = plt.figure()\n",
    "    ax = fig.add_subplot(111)\n",
    "    cax = ax.matshow(attentions.numpy(), cmap='bone')\n",
    "    fig.colorbar(cax)\n",
    "\n",
    "    # 设置坐标轴标记\n",
    "    ax.set_xticklabels([''] + list(jieba.cut(input_sentence)) + ['<EOS>'], rotation=90)\n",
    "    ax.set_yticklabels([''] + output_words)\n",
    "\n",
    "    # 设置坐标轴标记位置\n",
    "    ax.xaxis.set_major_locator(ticker.MultipleLocator(1))\n",
    "    ax.yaxis.set_major_locator(ticker.MultipleLocator(1))\n",
    "\n",
    "    plt.show()\n",
    "\n",
    "# Attention可视化\n",
    "def evaluateAndShowAttention(input_sentence):\n",
    "    output_words, attentions = evaluate(\n",
    "        encoder1, attn_decoder1, input_sentence)\n",
    "    print('input =', input_sentence)\n",
    "    print('output =', ' '.join(output_words))\n",
    "    showAttention(input_sentence, output_words, attentions)\n",
    "    print('----------------------------------------------')\n",
    "\n",
    "# 输出四个句子进行观察分析Attention的可视化过程\n",
    "evaluateAndShowAttention(pair_visual[0]) \n",
    "\n",
    "evaluateAndShowAttention(u'我老打你')\n",
    "\n",
    "evaluateAndShowAttention(u'打那个狗')\n",
    "\n",
    "evaluateAndShowAttention(u'男人，就要勇敢一点')"
   ]
  },
  {
   "cell_type": "markdown",
   "metadata": {},
   "source": [
    "观察结果可以发现，由于我们的语料有限，得到的翻译器对非语料中的句子的翻译效果并不是很好。后期我们可以尝试丰富我们的语料库，使得翻译更为准确。"
   ]
  },
  {
   "cell_type": "markdown",
   "metadata": {},
   "source": [
    "<div id=\"6\"></div>\n",
    "\n",
    "# 6 更多的尝试"
   ]
  },
  {
   "cell_type": "markdown",
   "metadata": {},
   "source": [
    "由于为了快速展示模型效果，上面的训练过程一切从简，比如限制了输入和输出句子的单词数，其实我们还可以有更多的尝试：\n",
    "1. 不对翻译对过滤，使用完整的数据集（可以通过增大`MAX_LENGTH`实现）\n",
    "2. 使用不同的数据集\n",
    "    + 另一种语言对\n",
    "    + 人→机器（例如IOT命令）\n",
    "    + 聊天→响应\n",
    "    + 问题→回答\n",
    "3. 用预先训练的词嵌入替换独热的方式，如word2vec或GloVe\n",
    "4. 尝试更多的隐层，更多的隐藏单位和更多的句子。比较训练时间和结果。\n",
    "5. 如果你使用的翻译文件对有两个相同的短语（I am test \\ I am test），那么你可以使用这个网络作为一个自动编码器。 尝试一下过程：\n",
    " + 训练一个自动编码器\n",
    " + 只保存编码器网络\n",
    " + 训练一个新的解码器对编码器输出进行翻译"
   ]
  }
 ],
 "metadata": {
  "kernelspec": {
   "display_name": "Python 3",
   "language": "python",
   "name": "python3"
  },
  "language_info": {
   "codemirror_mode": {
    "name": "ipython",
    "version": 3
   },
   "file_extension": ".py",
   "mimetype": "text/x-python",
   "name": "python",
   "nbconvert_exporter": "python",
   "pygments_lexer": "ipython3",
   "version": "3.6.3"
  }
 },
 "nbformat": 4,
 "nbformat_minor": 1
}
